{
 "cells": [
  {
   "cell_type": "code",
   "execution_count": 1,
   "id": "82f8133f",
   "metadata": {},
   "outputs": [],
   "source": [
    "import pandas as pd"
   ]
  },
  {
   "cell_type": "code",
   "execution_count": 2,
   "id": "43588935",
   "metadata": {},
   "outputs": [
    {
     "data": {
      "text/plain": [
       "서울     1116\n",
       "부산    12259\n",
       "인천    65119\n",
       "대구    16699\n",
       "dtype: int64"
      ]
     },
     "execution_count": 2,
     "metadata": {},
     "output_type": "execute_result"
    }
   ],
   "source": [
    "s = pd.Series([1116, 12259, 65119, 16699], index=['서울','부산','인천','대구'])\n",
    "s"
   ]
  },
  {
   "cell_type": "code",
   "execution_count": 3,
   "id": "33edf44e",
   "metadata": {},
   "outputs": [
    {
     "data": {
      "text/plain": [
       "Index(['서울', '부산', '인천', '대구'], dtype='object')"
      ]
     },
     "execution_count": 3,
     "metadata": {},
     "output_type": "execute_result"
    }
   ],
   "source": [
    "s.index"
   ]
  },
  {
   "cell_type": "code",
   "execution_count": 4,
   "id": "cebbc8d9",
   "metadata": {},
   "outputs": [
    {
     "data": {
      "text/plain": [
       "array([ 1116, 12259, 65119, 16699], dtype=int64)"
      ]
     },
     "execution_count": 4,
     "metadata": {},
     "output_type": "execute_result"
    }
   ],
   "source": [
    "s.values"
   ]
  },
  {
   "cell_type": "code",
   "execution_count": 5,
   "id": "cc41c179",
   "metadata": {},
   "outputs": [],
   "source": [
    "s.name = '농장물 생산량(톤)'"
   ]
  },
  {
   "cell_type": "code",
   "execution_count": 6,
   "id": "839a8244",
   "metadata": {},
   "outputs": [],
   "source": [
    "s.index.name = '지역구'"
   ]
  },
  {
   "cell_type": "code",
   "execution_count": 7,
   "id": "9d25050b",
   "metadata": {},
   "outputs": [
    {
     "data": {
      "text/plain": [
       "지역구\n",
       "서울     1116\n",
       "부산    12259\n",
       "인천    65119\n",
       "대구    16699\n",
       "Name: 농장물 생산량(톤), dtype: int64"
      ]
     },
     "execution_count": 7,
     "metadata": {},
     "output_type": "execute_result"
    }
   ],
   "source": [
    "s"
   ]
  },
  {
   "cell_type": "code",
   "execution_count": 8,
   "id": "ca7d2144",
   "metadata": {},
   "outputs": [],
   "source": [
    "s1 = s/1000"
   ]
  },
  {
   "cell_type": "code",
   "execution_count": 9,
   "id": "8bacd1c9",
   "metadata": {},
   "outputs": [],
   "source": [
    "s1.name = '농작물 생산량(k톤)'"
   ]
  },
  {
   "cell_type": "code",
   "execution_count": 10,
   "id": "c746006c",
   "metadata": {},
   "outputs": [
    {
     "data": {
      "text/plain": [
       "지역구\n",
       "서울     1.116\n",
       "부산    12.259\n",
       "인천    65.119\n",
       "대구    16.699\n",
       "Name: 농작물 생산량(k톤), dtype: float64"
      ]
     },
     "execution_count": 10,
     "metadata": {},
     "output_type": "execute_result"
    }
   ],
   "source": [
    "s1"
   ]
  },
  {
   "cell_type": "code",
   "execution_count": 11,
   "id": "53ce3a67",
   "metadata": {},
   "outputs": [
    {
     "data": {
      "text/plain": [
       "지역구\n",
       "서울    0.03\n",
       "부산    0.28\n",
       "인천    1.46\n",
       "대구    0.37\n",
       "Name: 농장물 생산량(톤), dtype: float64"
      ]
     },
     "execution_count": 11,
     "metadata": {},
     "output_type": "execute_result"
    }
   ],
   "source": [
    "(s/4456952*100).round(2) #소숫점 둘째까지"
   ]
  },
  {
   "cell_type": "code",
   "execution_count": 12,
   "id": "88f43c54",
   "metadata": {},
   "outputs": [
    {
     "data": {
      "text/plain": [
       "지역구\n",
       "서울     1116\n",
       "부산    12259\n",
       "인천    65119\n",
       "대구    16699\n",
       "Name: 농장물 생산량(톤), dtype: int64"
      ]
     },
     "execution_count": 12,
     "metadata": {},
     "output_type": "execute_result"
    }
   ],
   "source": [
    "s"
   ]
  },
  {
   "cell_type": "code",
   "execution_count": 13,
   "id": "e934d2a2",
   "metadata": {},
   "outputs": [
    {
     "data": {
      "text/plain": [
       "(1116, 1116)"
      ]
     },
     "execution_count": 13,
     "metadata": {},
     "output_type": "execute_result"
    }
   ],
   "source": [
    "s[0], s['서울']"
   ]
  },
  {
   "cell_type": "code",
   "execution_count": 14,
   "id": "5ab5ab54",
   "metadata": {},
   "outputs": [
    {
     "data": {
      "text/plain": [
       "지역구\n",
       "서울     1116\n",
       "부산    12259\n",
       "Name: 농장물 생산량(톤), dtype: int64"
      ]
     },
     "execution_count": 14,
     "metadata": {},
     "output_type": "execute_result"
    }
   ],
   "source": [
    "s[[0,1]]"
   ]
  },
  {
   "cell_type": "code",
   "execution_count": 15,
   "id": "0a3e66eb",
   "metadata": {},
   "outputs": [
    {
     "data": {
      "text/plain": [
       "지역구\n",
       "부산    12259\n",
       "서울     1116\n",
       "Name: 농장물 생산량(톤), dtype: int64"
      ]
     },
     "execution_count": 15,
     "metadata": {},
     "output_type": "execute_result"
    }
   ],
   "source": [
    "s[[1,0]]"
   ]
  },
  {
   "cell_type": "code",
   "execution_count": 16,
   "id": "1a5b2919",
   "metadata": {},
   "outputs": [
    {
     "data": {
      "text/plain": [
       "지역구\n",
       "부산    12259\n",
       "서울     1116\n",
       "Name: 농장물 생산량(톤), dtype: int64"
      ]
     },
     "execution_count": 16,
     "metadata": {},
     "output_type": "execute_result"
    }
   ],
   "source": [
    "s[['부산','서울']]"
   ]
  },
  {
   "cell_type": "code",
   "execution_count": 17,
   "id": "0c11418b",
   "metadata": {},
   "outputs": [
    {
     "data": {
      "text/plain": [
       "지역구\n",
       "부산    12259\n",
       "대구    16699\n",
       "Name: 농장물 생산량(톤), dtype: int64"
      ]
     },
     "execution_count": 17,
     "metadata": {},
     "output_type": "execute_result"
    }
   ],
   "source": [
    "s[(s>10000) & (s<20000)]"
   ]
  },
  {
   "cell_type": "code",
   "execution_count": 18,
   "id": "0a83f526",
   "metadata": {},
   "outputs": [
    {
     "data": {
      "text/plain": [
       "지역구\n",
       "인천    65119\n",
       "Name: 농장물 생산량(톤), dtype: int64"
      ]
     },
     "execution_count": 18,
     "metadata": {},
     "output_type": "execute_result"
    }
   ],
   "source": [
    "s[(s/4456952*100)>0.5]"
   ]
  },
  {
   "cell_type": "code",
   "execution_count": 19,
   "id": "4a5579ef",
   "metadata": {},
   "outputs": [
    {
     "data": {
      "text/plain": [
       "지역구\n",
       "부산    12259\n",
       "인천    65119\n",
       "Name: 농장물 생산량(톤), dtype: int64"
      ]
     },
     "execution_count": 19,
     "metadata": {},
     "output_type": "execute_result"
    }
   ],
   "source": [
    "s[1:3]"
   ]
  },
  {
   "cell_type": "code",
   "execution_count": 20,
   "id": "d5a1fcf1",
   "metadata": {},
   "outputs": [
    {
     "data": {
      "text/plain": [
       "지역구\n",
       "서울     1116\n",
       "부산    12259\n",
       "인천    65119\n",
       "대구    16699\n",
       "Name: 농장물 생산량(톤), dtype: int64"
      ]
     },
     "execution_count": 20,
     "metadata": {},
     "output_type": "execute_result"
    }
   ],
   "source": [
    "s['서울':'대구'] # 키값으로 입력하면 포함한다."
   ]
  },
  {
   "cell_type": "code",
   "execution_count": 21,
   "id": "2a277440",
   "metadata": {},
   "outputs": [
    {
     "data": {
      "text/plain": [
       "지역구\n",
       "서울     1116\n",
       "부산    12259\n",
       "인천    65119\n",
       "대구    16699\n",
       "Name: 농장물 생산량(톤), dtype: int64"
      ]
     },
     "execution_count": 21,
     "metadata": {},
     "output_type": "execute_result"
    }
   ],
   "source": [
    "s"
   ]
  },
  {
   "cell_type": "code",
   "execution_count": 22,
   "id": "5e82f400",
   "metadata": {},
   "outputs": [
    {
     "data": {
      "text/plain": [
       "1116"
      ]
     },
     "execution_count": 22,
     "metadata": {},
     "output_type": "execute_result"
    }
   ],
   "source": [
    "s.서울"
   ]
  },
  {
   "cell_type": "code",
   "execution_count": 23,
   "id": "c447407a",
   "metadata": {},
   "outputs": [
    {
     "data": {
      "text/plain": [
       "서울    1\n",
       "부산    2\n",
       "dtype: int64"
      ]
     },
     "execution_count": 23,
     "metadata": {},
     "output_type": "execute_result"
    }
   ],
   "source": [
    "d1 = {'서울':1, '부산':2}\n",
    "pd.Series(d1)"
   ]
  },
  {
   "cell_type": "code",
   "execution_count": 24,
   "id": "40d4be10",
   "metadata": {},
   "outputs": [
    {
     "name": "stdout",
     "output_type": "stream",
     "text": [
      "서울 1116\n",
      "부산 12259\n",
      "인천 65119\n",
      "대구 16699\n"
     ]
    }
   ],
   "source": [
    "for k, v in s.items():\n",
    "    print(k,v)"
   ]
  },
  {
   "cell_type": "code",
   "execution_count": 25,
   "id": "fcedaa26",
   "metadata": {},
   "outputs": [
    {
     "name": "stdout",
     "output_type": "stream",
     "text": [
      "False\n"
     ]
    },
    {
     "data": {
      "text/plain": [
       "True"
      ]
     },
     "execution_count": 25,
     "metadata": {},
     "output_type": "execute_result"
    }
   ],
   "source": [
    "print('제주도' in s)\n",
    "'서울' in s.keys()"
   ]
  },
  {
   "cell_type": "code",
   "execution_count": 26,
   "id": "5387ca12",
   "metadata": {},
   "outputs": [
    {
     "data": {
      "text/plain": [
       "서울     1116\n",
       "부산    12259\n",
       "인천    65119\n",
       "대구    16699\n",
       "dtype: int64"
      ]
     },
     "execution_count": 26,
     "metadata": {},
     "output_type": "execute_result"
    }
   ],
   "source": [
    "s21 = pd.Series([1116, 12259, 65119, 16699], index=['서울','부산','인천','대구'])\n",
    "s21"
   ]
  },
  {
   "cell_type": "code",
   "execution_count": 27,
   "id": "5ca59ca2",
   "metadata": {},
   "outputs": [],
   "source": [
    "s20 = pd.Series([628,11075,56013,15695], index=['서울','부산','인천','대구'])"
   ]
  },
  {
   "cell_type": "code",
   "execution_count": 28,
   "id": "bf09a868",
   "metadata": {},
   "outputs": [],
   "source": [
    "s_sub = s21 - s20"
   ]
  },
  {
   "cell_type": "code",
   "execution_count": 29,
   "id": "e983dd14",
   "metadata": {},
   "outputs": [
    {
     "data": {
      "text/plain": [
       "float"
      ]
     },
     "execution_count": 29,
     "metadata": {},
     "output_type": "execute_result"
    }
   ],
   "source": [
    "import numpy as np\n",
    "type(np.nan)"
   ]
  },
  {
   "cell_type": "code",
   "execution_count": 30,
   "id": "749bea56",
   "metadata": {},
   "outputs": [
    {
     "data": {
      "text/plain": [
       "서울     488\n",
       "부산    1184\n",
       "인천    9106\n",
       "대구    1004\n",
       "dtype: int32"
      ]
     },
     "execution_count": 30,
     "metadata": {},
     "output_type": "execute_result"
    }
   ],
   "source": [
    "s_sub.astype(int)"
   ]
  },
  {
   "cell_type": "code",
   "execution_count": 31,
   "id": "3414128e",
   "metadata": {},
   "outputs": [],
   "source": [
    "s_sub = s21.sub(s20, fill_value=0)"
   ]
  },
  {
   "cell_type": "code",
   "execution_count": 32,
   "id": "6804ad25",
   "metadata": {},
   "outputs": [],
   "source": [
    "s_sub2 = s21.sub(s20)"
   ]
  },
  {
   "cell_type": "code",
   "execution_count": 33,
   "id": "f0497cc5",
   "metadata": {},
   "outputs": [
    {
     "data": {
      "text/plain": [
       "서울    True\n",
       "부산    True\n",
       "인천    True\n",
       "대구    True\n",
       "dtype: bool"
      ]
     },
     "execution_count": 33,
     "metadata": {},
     "output_type": "execute_result"
    }
   ],
   "source": [
    "s_sub2.notnull()"
   ]
  },
  {
   "cell_type": "code",
   "execution_count": 34,
   "id": "005beb79",
   "metadata": {},
   "outputs": [
    {
     "data": {
      "text/plain": [
       "서울     1116\n",
       "부산    12259\n",
       "인천    65119\n",
       "대구    16699\n",
       "dtype: int64"
      ]
     },
     "execution_count": 34,
     "metadata": {},
     "output_type": "execute_result"
    }
   ],
   "source": [
    "s21"
   ]
  },
  {
   "cell_type": "code",
   "execution_count": 35,
   "id": "d3f945d0",
   "metadata": {},
   "outputs": [
    {
     "data": {
      "text/plain": [
       "서울      628\n",
       "부산    11075\n",
       "인천    56013\n",
       "대구    15695\n",
       "dtype: int64"
      ]
     },
     "execution_count": 35,
     "metadata": {},
     "output_type": "execute_result"
    }
   ],
   "source": [
    "s20"
   ]
  },
  {
   "cell_type": "code",
   "execution_count": 36,
   "id": "150d0cd9",
   "metadata": {},
   "outputs": [],
   "source": [
    "rs = ((s21 - s20) / s20 * 100).round(2)"
   ]
  },
  {
   "cell_type": "code",
   "execution_count": 37,
   "id": "5e65485c",
   "metadata": {},
   "outputs": [
    {
     "data": {
      "text/plain": [
       "77.71"
      ]
     },
     "execution_count": 37,
     "metadata": {},
     "output_type": "execute_result"
    }
   ],
   "source": [
    "rs['서울']"
   ]
  },
  {
   "cell_type": "code",
   "execution_count": 38,
   "id": "2bf01a9f",
   "metadata": {},
   "outputs": [],
   "source": [
    "rs['서울'] = 0"
   ]
  },
  {
   "cell_type": "code",
   "execution_count": 39,
   "id": "c3c67917",
   "metadata": {},
   "outputs": [],
   "source": [
    "rs[0] = 123"
   ]
  },
  {
   "cell_type": "code",
   "execution_count": 40,
   "id": "3f2bbb5a",
   "metadata": {},
   "outputs": [
    {
     "data": {
      "text/plain": [
       "서울    123.00\n",
       "부산     10.69\n",
       "인천     16.26\n",
       "대구      6.40\n",
       "dtype: float64"
      ]
     },
     "execution_count": 40,
     "metadata": {},
     "output_type": "execute_result"
    }
   ],
   "source": [
    "rs"
   ]
  },
  {
   "cell_type": "code",
   "execution_count": 41,
   "id": "15683139",
   "metadata": {},
   "outputs": [],
   "source": [
    "del rs['대구']"
   ]
  },
  {
   "cell_type": "code",
   "execution_count": 42,
   "id": "e10f6980",
   "metadata": {},
   "outputs": [],
   "source": [
    "del rs['서울']"
   ]
  },
  {
   "cell_type": "code",
   "execution_count": 43,
   "id": "c0a53020",
   "metadata": {},
   "outputs": [
    {
     "data": {
      "text/plain": [
       "부산    10.69\n",
       "인천    16.26\n",
       "dtype: float64"
      ]
     },
     "execution_count": 43,
     "metadata": {},
     "output_type": "execute_result"
    }
   ],
   "source": [
    "rs"
   ]
  },
  {
   "cell_type": "code",
   "execution_count": 44,
   "id": "2fa886e2",
   "metadata": {},
   "outputs": [],
   "source": [
    "rs['서울'] = 77.71"
   ]
  },
  {
   "cell_type": "code",
   "execution_count": 45,
   "id": "4ce0d7bb",
   "metadata": {},
   "outputs": [
    {
     "data": {
      "text/plain": [
       "부산    10.69\n",
       "인천    16.26\n",
       "서울    77.71\n",
       "dtype: float64"
      ]
     },
     "execution_count": 45,
     "metadata": {},
     "output_type": "execute_result"
    }
   ],
   "source": [
    "rs"
   ]
  },
  {
   "cell_type": "code",
   "execution_count": 46,
   "id": "26028df1",
   "metadata": {},
   "outputs": [],
   "source": [
    "rs['대구'] = 6.40"
   ]
  },
  {
   "cell_type": "code",
   "execution_count": 47,
   "id": "7515a35f",
   "metadata": {},
   "outputs": [
    {
     "data": {
      "text/plain": [
       "부산    10.69\n",
       "인천    16.26\n",
       "서울    77.71\n",
       "대구     6.40\n",
       "dtype: float64"
      ]
     },
     "execution_count": 47,
     "metadata": {},
     "output_type": "execute_result"
    }
   ],
   "source": [
    "rs"
   ]
  },
  {
   "cell_type": "code",
   "execution_count": 48,
   "id": "9cfd0447",
   "metadata": {},
   "outputs": [],
   "source": [
    "import random"
   ]
  },
  {
   "cell_type": "code",
   "execution_count": 57,
   "id": "4786fae0",
   "metadata": {},
   "outputs": [],
   "source": [
    "key100 = random.sample(list(range(1000)),100)\n",
    "key80 = random.sample(list(range(1000)),80)\n",
    "value100 = random.sample(list(range(1000)),100)\n",
    "value80 = random.sample(list(range(1000)),80)\n",
    "s100 = pd.Series(value100, index=key100)\n",
    "s80 = pd.Series(value80, index=key80)"
   ]
  },
  {
   "cell_type": "code",
   "execution_count": 58,
   "id": "c5fa3572",
   "metadata": {},
   "outputs": [
    {
     "data": {
      "text/plain": [
       "80"
      ]
     },
     "execution_count": 58,
     "metadata": {},
     "output_type": "execute_result"
    }
   ],
   "source": [
    "len(set(key80))"
   ]
  },
  {
   "cell_type": "code",
   "execution_count": 59,
   "id": "05b14fb7",
   "metadata": {},
   "outputs": [],
   "source": [
    "s_100_80_sub = s100 - s80"
   ]
  },
  {
   "cell_type": "code",
   "execution_count": 60,
   "id": "11f23a81",
   "metadata": {},
   "outputs": [],
   "source": [
    "s_100_80_mul = s100.sub(s80, fill_value=0)"
   ]
  },
  {
   "cell_type": "code",
   "execution_count": 61,
   "id": "c1393904",
   "metadata": {},
   "outputs": [
    {
     "data": {
      "text/plain": [
       "<bound method NDFrame.head of 10     141.0\n",
       "11    -272.0\n",
       "13    -999.0\n",
       "17     857.0\n",
       "20      41.0\n",
       "       ...  \n",
       "963   -210.0\n",
       "967   -136.0\n",
       "982   -514.0\n",
       "984    855.0\n",
       "993    773.0\n",
       "Length: 170, dtype: float64>"
      ]
     },
     "execution_count": 61,
     "metadata": {},
     "output_type": "execute_result"
    }
   ],
   "source": [
    "s_100_80_mul.head"
   ]
  },
  {
   "cell_type": "code",
   "execution_count": null,
   "id": "081ebd90",
   "metadata": {},
   "outputs": [],
   "source": []
  }
 ],
 "metadata": {
  "kernelspec": {
   "display_name": "Python 3 (ipykernel)",
   "language": "python",
   "name": "python3"
  },
  "language_info": {
   "codemirror_mode": {
    "name": "ipython",
    "version": 3
   },
   "file_extension": ".py",
   "mimetype": "text/x-python",
   "name": "python",
   "nbconvert_exporter": "python",
   "pygments_lexer": "ipython3",
   "version": "3.9.12"
  }
 },
 "nbformat": 4,
 "nbformat_minor": 5
}
